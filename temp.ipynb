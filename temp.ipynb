{
 "cells": [
  {
   "cell_type": "code",
   "execution_count": 56,
   "metadata": {},
   "outputs": [],
   "source": [
    "import pandas as pd\n",
    "\n",
    "df = pd.read_excel(\"EVs.xlsx\")"
   ]
  },
  {
   "cell_type": "markdown",
   "metadata": {},
   "source": [
    "# 1 гипотеза"
   ]
  },
  {
   "cell_type": "code",
   "execution_count": 29,
   "metadata": {},
   "outputs": [
    {
     "name": "stdout",
     "output_type": "stream",
     "text": [
      "Clean Alternative Fuel Vehicle (CAFV) Eligibility\n",
      "Eligibility unknown as battery range has not been researched    19667\n",
      "Clean Alternative Fuel Vehicle Eligible                         15130\n",
      "Not eligible due to low battery range                               7\n",
      "Name: count, dtype: int64\n",
      "---\n",
      "Clean Alternative Fuel Vehicle (CAFV) Eligibility\n",
      "Not eligible due to low battery range      11797\n",
      "Clean Alternative Fuel Vehicle Eligible     9443\n",
      "Name: count, dtype: int64\n"
     ]
    }
   ],
   "source": [
    "df.head(2)\n",
    "\n",
    "df[\"Clean Alternative Fuel Vehicle (CAFV) Eligibility\"].value_counts()\n",
    "df[\"Electric Vehicle Type\"].value_counts()\n",
    "\n",
    "df_engine_electric = df[df[\"Electric Vehicle Type\"] == \"Battery Electric Vehicle (BEV)\"]\n",
    "df_engine_hybrid = df[\n",
    "    df[\"Electric Vehicle Type\"] == \"Plug-in Hybrid Electric Vehicle (PHEV)\"\n",
    "]\n",
    "\n",
    "print(\n",
    "    df_engine_electric[\n",
    "        \"Clean Alternative Fuel Vehicle (CAFV) Eligibility\"\n",
    "    ].value_counts()\n",
    ")\n",
    "print(\"---\")\n",
    "print(\n",
    "    df_engine_hybrid[\"Clean Alternative Fuel Vehicle (CAFV) Eligibility\"].value_counts()\n",
    ")"
   ]
  },
  {
   "cell_type": "code",
   "execution_count": 57,
   "metadata": {},
   "outputs": [
    {
     "data": {
      "text/plain": [
       "(21240, 34804)"
      ]
     },
     "execution_count": 57,
     "metadata": {},
     "output_type": "execute_result"
    }
   ],
   "source": [
    "len(df_engine_hybrid), len(df_engine_electric)"
   ]
  },
  {
   "cell_type": "code",
   "execution_count": 32,
   "metadata": {},
   "outputs": [
    {
     "name": "stderr",
     "output_type": "stream",
     "text": [
      "C:\\Users\\matveyP\\AppData\\Local\\Temp\\ipykernel_22772\\77905121.py:1: UserWarning: Boolean Series key will be reindexed to match DataFrame index.\n",
      "  df_engine_hybrid[df[\"Clean Alternative Fuel Vehicle (CAFV) Eligibility\"] == \"Eligibility unknown as battery range has not been researched\"]\n"
     ]
    },
    {
     "data": {
      "text/html": [
       "<div>\n",
       "<style scoped>\n",
       "    .dataframe tbody tr th:only-of-type {\n",
       "        vertical-align: middle;\n",
       "    }\n",
       "\n",
       "    .dataframe tbody tr th {\n",
       "        vertical-align: top;\n",
       "    }\n",
       "\n",
       "    .dataframe thead th {\n",
       "        text-align: right;\n",
       "    }\n",
       "</style>\n",
       "<table border=\"1\" class=\"dataframe\">\n",
       "  <thead>\n",
       "    <tr style=\"text-align: right;\">\n",
       "      <th></th>\n",
       "      <th>Unnamed: 0</th>\n",
       "      <th>City</th>\n",
       "      <th>State</th>\n",
       "      <th>County</th>\n",
       "      <th>Postal Code</th>\n",
       "      <th>Make</th>\n",
       "      <th>Model</th>\n",
       "      <th>Model Year</th>\n",
       "      <th>Electric Vehicle Type</th>\n",
       "      <th>Clean Alternative Fuel Vehicle (CAFV) Eligibility</th>\n",
       "      <th>...</th>\n",
       "      <th>Legislative District</th>\n",
       "      <th>Vehicle Location</th>\n",
       "      <th>Power (hp)</th>\n",
       "      <th>Battery Capacity (kWh)</th>\n",
       "      <th>Dimensions (L x W x H mm)</th>\n",
       "      <th>Range (km)</th>\n",
       "      <th>Price ($)</th>\n",
       "      <th>body_type</th>\n",
       "      <th>max_speed (km/h)</th>\n",
       "      <th>add_info</th>\n",
       "    </tr>\n",
       "  </thead>\n",
       "  <tbody>\n",
       "  </tbody>\n",
       "</table>\n",
       "<p>0 rows × 21 columns</p>\n",
       "</div>"
      ],
      "text/plain": [
       "Empty DataFrame\n",
       "Columns: [Unnamed: 0, City, State, County, Postal Code, Make, Model, Model Year, Electric Vehicle Type, Clean Alternative Fuel Vehicle (CAFV) Eligibility, Electric Range, Legislative District, Vehicle Location, Power (hp), Battery Capacity (kWh), Dimensions (L x W x H mm), Range (km) , Price ($), body_type, max_speed (km/h), add_info]\n",
       "Index: []\n",
       "\n",
       "[0 rows x 21 columns]"
      ]
     },
     "execution_count": 32,
     "metadata": {},
     "output_type": "execute_result"
    }
   ],
   "source": [
    "df_engine_hybrid[\n",
    "    df[\"Clean Alternative Fuel Vehicle (CAFV) Eligibility\"]\n",
    "    == \"Eligibility unknown as battery range has not been researched\"\n",
    "]"
   ]
  },
  {
   "cell_type": "code",
   "execution_count": 58,
   "metadata": {},
   "outputs": [
    {
     "data": {
      "text/plain": [
       "array([19., 24., 42., 40.,  7., 20.,  6., 14., 32., 30., 35., 13., 18.,\n",
       "       10., 28., 39., 38., 44., 26.,  2.,  9., 47., 31., 23., 17., 41.,\n",
       "       48., 16.,  5.,  1., 45., 21., 12., 34., 33.,  4., 25., 27., 15.,\n",
       "       29., 46.,  8., 11., 22., 37., 43., 36.,  3., 49.])"
      ]
     },
     "execution_count": 58,
     "metadata": {},
     "output_type": "execute_result"
    }
   ],
   "source": [
    "df[\"Legislative District\"].unique()"
   ]
  },
  {
   "cell_type": "code",
   "execution_count": 60,
   "metadata": {},
   "outputs": [
    {
     "data": {
      "text/plain": [
       "Legislative District\n",
       "41.0    2093\n",
       "5.0     2069\n",
       "45.0    1829\n",
       "36.0    1770\n",
       "48.0    1753\n",
       "43.0    1736\n",
       "1.0     1676\n",
       "34.0    1543\n",
       "32.0    1521\n",
       "46.0    1480\n",
       "40.0    1477\n",
       "18.0    1422\n",
       "37.0    1397\n",
       "10.0    1396\n",
       "22.0    1358\n",
       "26.0    1314\n",
       "21.0    1282\n",
       "11.0    1281\n",
       "35.0    1261\n",
       "31.0    1225\n",
       "23.0    1221\n",
       "44.0    1219\n",
       "28.0    1142\n",
       "24.0    1114\n",
       "33.0    1111\n",
       "47.0    1083\n",
       "27.0    1076\n",
       "2.0     1072\n",
       "17.0    1068\n",
       "20.0    1062\n",
       "39.0    1029\n",
       "42.0    1025\n",
       "49.0     999\n",
       "25.0     945\n",
       "4.0      898\n",
       "12.0     826\n",
       "6.0      821\n",
       "8.0      756\n",
       "30.0     753\n",
       "14.0     739\n",
       "19.0     701\n",
       "38.0     694\n",
       "13.0     654\n",
       "7.0      641\n",
       "29.0     616\n",
       "3.0      545\n",
       "9.0      526\n",
       "16.0     504\n",
       "15.0     321\n",
       "Name: count, dtype: int64"
      ]
     },
     "execution_count": 60,
     "metadata": {},
     "output_type": "execute_result"
    }
   ],
   "source": [
    "# df[\"Legislative District\"] = df[\"Legislative District\"].apply(lambda x: int(x))\n",
    "df[\"Legislative District\"].value_counts()\n",
    "# df[\"Legislative District\"].value_counts().index.unique().sort_values()\n",
    "# len(df[\"Legislative District\"].value_counts())"
   ]
  },
  {
   "cell_type": "code",
   "execution_count": null,
   "metadata": {},
   "outputs": [],
   "source": []
  }
 ],
 "metadata": {
  "kernelspec": {
   "display_name": "Python 3",
   "language": "python",
   "name": "python3"
  },
  "language_info": {
   "codemirror_mode": {
    "name": "ipython",
    "version": 3
   },
   "file_extension": ".py",
   "mimetype": "text/x-python",
   "name": "python",
   "nbconvert_exporter": "python",
   "pygments_lexer": "ipython3",
   "version": "3.10.9"
  }
 },
 "nbformat": 4,
 "nbformat_minor": 2
}
